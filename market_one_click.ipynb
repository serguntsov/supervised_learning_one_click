{
 "cells": [
  {
   "cell_type": "markdown",
   "metadata": {},
   "source": [
    "# Проект: Обучение с учителем: качество модели"
   ]
  },
  {
   "cell_type": "markdown",
   "metadata": {},
   "source": [
    "### Техническое задание\n",
    "\n",
    "Интернет-магазин «В один клик» продаёт разные товары: для детей, для дома, мелкую бытовую технику, косметику и даже продукты. Отчёт магазина за прошлый период показал, что активность покупателей начала снижаться. Привлекать новых клиентов уже не так эффективно: о магазине и так знает большая часть целевой аудитории. \n",
    "\n",
    "Возможный выход — удерживать активность постоянных клиентов. Сделать это можно с помощью персонализированных предложений.\n",
    "\n",
    "Необходимо разработать решение, которое позволит персонализировать предложения постоянным клиентам, чтобы увеличить их покупательскую активность.\n",
    "\n",
    "1. Нужно промаркировать уровень финансовой активности постоянных покупателей. В компании принято выделять два уровня активности: \n",
    "    - «снизилась» - клиент стал покупать меньше товаров.\n",
    "    - «прежний уровень» - клиент покупает столько же товаров или больше.\n",
    "\n",
    "2. Нужно собрать данные по клиентам по следующим группам:\n",
    "    - Признаки, которые описывают коммуникацию сотрудников компании с клиентом.\n",
    "    - Признаки, которые описывают продуктовое поведение покупателя. Например, какие товары покупает и как часто.\n",
    "    - Признаки, которые описывают покупательское поведение клиента. Например, сколько тратил в магазине.\n",
    "    - Признаки, которые описывают поведение покупателя на сайте. Например, как много страниц просматривает и сколько времени проводит на сайте.\n",
    "    "
   ]
  },
  {
   "cell_type": "markdown",
   "metadata": {},
   "source": [
    "### План выполнения <a id='plan_global'></a>\n",
    "\n",
    "1. [Изучение общей информации](#task_1) <a id='task_1_plan'></a>\n",
    "    - Пропущенные значения\n",
    "    - Неправильные типы данных\n",
    "\n",
    "\n",
    "2. [Предобработка данных](#task_2) <a id='task_2_plan'></a>\n",
    "    - [Замена названий столбцов](#task_2_1) <a id='task_2_plan_1'></a>\n",
    "    - [Изменение ошибочных значений](#task_2_2) <a id='task_2_plan_2'></a>\n",
    "    - [Удаление возможных дубликатов](#task_2_3) <a id='task_2_plan_3'></a>\n",
    "\n",
    "\n",
    "3. [Исследовательский анализ данных](#task_3_1) <a id='task_3_plan'></a>\n",
    "    - Статистический анализ всех признаков\n",
    "    - Поиск возможных аномалий и выбросов\n",
    "    - Отбор клиентов с покупательской активностью не менее трёх месяцев\n",
    "\n",
    "\n",
    "4. Объединение таблиц <a id='task_4'></a>\n",
    "    - Объединение таблиц **`market_file`**, **`market_money`**, **`market_time`**\n",
    "    - Создание отдельных столбов с данными о выручке и времени на сайте для каждого периода\n",
    "\n",
    "\n",
    "5. Корреляционный анализ\n",
    "    - Взаимосвязь между признаками\n",
    "\n",
    "\n",
    "6. Использование пайплайнов\n",
    "    - Пайплайн для подготовки данных\n",
    "    - Пайплайн для инициализации модели\n",
    "    - Отбор лучшей модели для задачи классификации\n",
    "\n",
    "\n",
    "7. Анализ важности признаков\n",
    "    - Оценка важности признаков, построение графика важности с помощью метода SHAP\n",
    "    - Выводы о значимости признаков\n",
    "\n",
    "\n",
    "8. Сегментация покупателей\n",
    "    - Выполнение сегментации покупателей, используя результаты моделирования и данные о прибыльности покупателей\n",
    "    - Выбор группы покупателей. Предложение как увеличить её покупательскую активность\n",
    "    - Выводы о сегментах\n",
    "\n",
    "\n",
    "9. Общий вывод работы\n"
   ]
  },
  {
   "cell_type": "markdown",
   "metadata": {},
   "source": [
    "### Описание данных\n",
    "\n",
    "- **`market_file`** - данные о поведении покупателя на сайте, о коммуникациях с покупателем и его продуктовом поведении. <a id='market_file'></a>\n",
    "    - `id` — номер покупателя в корпоративной базе данных.\n",
    "    - `Покупательская активность` — рассчитанный класс покупательской активности (целевой признак): «снизилась» или «прежний уровень».\n",
    "    - `Тип сервиса` — уровень сервиса, например «премиум» и «стандарт».\n",
    "    - `Разрешить сообщать` — информация о том, можно ли присылать покупателю дополнительные предложения о товаре. Согласие на это даёт покупатель.\n",
    "    - `Маркет_актив_6_мес` — среднемесячное значение маркетинговых коммуникаций компании, которое приходилось на покупателя за последние 6 месяцев. Это значение показывает, какое число рассылок, звонков, показов рекламы и прочего приходилось на клиента.\n",
    "    - `Маркет_актив_тек_мес` — количество маркетинговых коммуникаций в текущем месяце.\n",
    "    - `Длительность` — значение, которое показывает, сколько дней прошло с момента регистрации покупателя на сайте.\n",
    "    - `Акционные_покупки` — среднемесячная доля покупок по акции от общего числа покупок за последние 6 месяцев.\n",
    "    - `Популярная_категория` — самая популярная категория товаров у покупателя за последние 6 месяцев.\n",
    "    - `Средний_просмотр_категорий_за_визит` — показывает, сколько в среднем категорий покупатель просмотрел за визит в течение последнего месяца.\n",
    "    - `Неоплаченные_продукты_штук_квартал` — общее число неоплаченных товаров в корзине за последние 3 месяца.\n",
    "    - `Ошибка_сервиса` — число сбоев, которые коснулись покупателя во время посещения сайта.\n",
    "    - `Страниц_за_визит` — среднее количество страниц, которые просмотрел покупатель за один визит на сайт за последние 3 месяца.\n",
    "\n",
    "\n",
    "- **`market_money`** - данные о выручке, которую получает магазин с покупателя <a id='market_money'></a>\n",
    "    - `id` — номер покупателя в корпоративной базе данных.\n",
    "    - `Период` — название периода, во время которого зафиксирована выручка.\n",
    "    - `Выручка` — сумма выручки за период.\n",
    "\n",
    "\n",
    "- **`market_time`** - данные о времени (в минутах), которое покупатель провёл на сайте в течение периода. <a id='market_time'></a>\n",
    "    - `id` — номер покупателя в корпоративной базе данных.\n",
    "    - `Период` — название периода, во время которого зафиксировано общее время.\n",
    "    - `минут` — значение времени, проведённого на сайте, в минутах.\n",
    "\n",
    "\n",
    "- **`money`** - данные о среднемесячной прибыли продавца за последние 3 месяца <a id='money'></a>\n",
    "    - `id` — номер покупателя в корпоративной базе данных.\n",
    "    - `Прибыль` — значение прибыли."
   ]
  },
  {
   "cell_type": "code",
   "execution_count": 128,
   "metadata": {},
   "outputs": [],
   "source": [
    "# В дальнейшем поменять, добавить и структурировать!\n",
    "\n",
    "import phik\n",
    "import pandas as pd\n",
    "import matplotlib.pyplot as plt\n",
    "import seaborn as sns\n",
    "import numpy as np\n",
    "\n",
    "from sklearn.linear_model import LogisticRegression\n",
    "from sklearn.neighbors import KNeighborsClassifier\n",
    "from sklearn.tree import DecisionTreeClassifier\n",
    "from sklearn.svm import SVC\n",
    "\n",
    "from sklearn.pipeline import Pipeline\n",
    "from sklearn.compose import ColumnTransformer\n",
    "from sklearn.impute import SimpleImputer \n",
    "from sklearn.preprocessing import OneHotEncoder, LabelEncoder, OrdinalEncoder, MinMaxScaler, StandardScaler\n",
    "from sklearn.model_selection import train_test_split\n",
    "from sklearn.metrics import accuracy_score, precision_score,recall_score, confusion_matrix "
   ]
  },
  {
   "cell_type": "markdown",
   "metadata": {},
   "source": [
    "### [Изучение общей информации](#task_1_plan) <a id='task_1'></a>"
   ]
  },
  {
   "cell_type": "code",
   "execution_count": 35,
   "metadata": {},
   "outputs": [],
   "source": [
    "def parse_dataset(path, sep=','):\n",
    "    df = pd.read_csv(path, sep=sep)\n",
    "\n",
    "    display(df.head())\n",
    "    \n",
    "    print('\\nПроцент пропусков')\n",
    "    display((df.isna().mean()*100).sort_values(ascending=False))\n",
    "    df.info()\n",
    "\n",
    "    return df"
   ]
  },
  {
   "cell_type": "code",
   "execution_count": 38,
   "metadata": {},
   "outputs": [],
   "source": [
    "def unique_category(df):\n",
    "    for clmn in df.select_dtypes(exclude='number'):\n",
    "        print(clmn+\":\", df[clmn].unique(), end='\\n\\n')"
   ]
  },
  {
   "cell_type": "markdown",
   "metadata": {},
   "source": [
    "#### [Датасет market](#market_file)"
   ]
  },
  {
   "cell_type": "code",
   "execution_count": 36,
   "metadata": {},
   "outputs": [
    {
     "data": {
      "text/html": [
       "<div>\n",
       "<style scoped>\n",
       "    .dataframe tbody tr th:only-of-type {\n",
       "        vertical-align: middle;\n",
       "    }\n",
       "\n",
       "    .dataframe tbody tr th {\n",
       "        vertical-align: top;\n",
       "    }\n",
       "\n",
       "    .dataframe thead th {\n",
       "        text-align: right;\n",
       "    }\n",
       "</style>\n",
       "<table border=\"1\" class=\"dataframe\">\n",
       "  <thead>\n",
       "    <tr style=\"text-align: right;\">\n",
       "      <th></th>\n",
       "      <th>id</th>\n",
       "      <th>Покупательская активность</th>\n",
       "      <th>Тип сервиса</th>\n",
       "      <th>Разрешить сообщать</th>\n",
       "      <th>Маркет_актив_6_мес</th>\n",
       "      <th>Маркет_актив_тек_мес</th>\n",
       "      <th>Длительность</th>\n",
       "      <th>Акционные_покупки</th>\n",
       "      <th>Популярная_категория</th>\n",
       "      <th>Средний_просмотр_категорий_за_визит</th>\n",
       "      <th>Неоплаченные_продукты_штук_квартал</th>\n",
       "      <th>Ошибка_сервиса</th>\n",
       "      <th>Страниц_за_визит</th>\n",
       "    </tr>\n",
       "  </thead>\n",
       "  <tbody>\n",
       "    <tr>\n",
       "      <th>0</th>\n",
       "      <td>215348</td>\n",
       "      <td>Снизилась</td>\n",
       "      <td>премиум</td>\n",
       "      <td>да</td>\n",
       "      <td>3.4</td>\n",
       "      <td>5</td>\n",
       "      <td>121</td>\n",
       "      <td>0.00</td>\n",
       "      <td>Товары для детей</td>\n",
       "      <td>6</td>\n",
       "      <td>2</td>\n",
       "      <td>1</td>\n",
       "      <td>5</td>\n",
       "    </tr>\n",
       "    <tr>\n",
       "      <th>1</th>\n",
       "      <td>215349</td>\n",
       "      <td>Снизилась</td>\n",
       "      <td>премиум</td>\n",
       "      <td>да</td>\n",
       "      <td>4.4</td>\n",
       "      <td>4</td>\n",
       "      <td>819</td>\n",
       "      <td>0.75</td>\n",
       "      <td>Товары для детей</td>\n",
       "      <td>4</td>\n",
       "      <td>4</td>\n",
       "      <td>2</td>\n",
       "      <td>5</td>\n",
       "    </tr>\n",
       "    <tr>\n",
       "      <th>2</th>\n",
       "      <td>215350</td>\n",
       "      <td>Снизилась</td>\n",
       "      <td>стандартт</td>\n",
       "      <td>нет</td>\n",
       "      <td>4.9</td>\n",
       "      <td>3</td>\n",
       "      <td>539</td>\n",
       "      <td>0.14</td>\n",
       "      <td>Домашний текстиль</td>\n",
       "      <td>5</td>\n",
       "      <td>2</td>\n",
       "      <td>1</td>\n",
       "      <td>5</td>\n",
       "    </tr>\n",
       "    <tr>\n",
       "      <th>3</th>\n",
       "      <td>215351</td>\n",
       "      <td>Снизилась</td>\n",
       "      <td>стандартт</td>\n",
       "      <td>да</td>\n",
       "      <td>3.2</td>\n",
       "      <td>5</td>\n",
       "      <td>896</td>\n",
       "      <td>0.99</td>\n",
       "      <td>Товары для детей</td>\n",
       "      <td>5</td>\n",
       "      <td>0</td>\n",
       "      <td>6</td>\n",
       "      <td>4</td>\n",
       "    </tr>\n",
       "    <tr>\n",
       "      <th>4</th>\n",
       "      <td>215352</td>\n",
       "      <td>Снизилась</td>\n",
       "      <td>стандартт</td>\n",
       "      <td>нет</td>\n",
       "      <td>5.1</td>\n",
       "      <td>3</td>\n",
       "      <td>1064</td>\n",
       "      <td>0.94</td>\n",
       "      <td>Товары для детей</td>\n",
       "      <td>3</td>\n",
       "      <td>2</td>\n",
       "      <td>3</td>\n",
       "      <td>2</td>\n",
       "    </tr>\n",
       "  </tbody>\n",
       "</table>\n",
       "</div>"
      ],
      "text/plain": [
       "       id Покупательская активность Тип сервиса Разрешить сообщать  \\\n",
       "0  215348                 Снизилась     премиум                 да   \n",
       "1  215349                 Снизилась     премиум                 да   \n",
       "2  215350                 Снизилась   стандартт                нет   \n",
       "3  215351                 Снизилась   стандартт                 да   \n",
       "4  215352                 Снизилась   стандартт                нет   \n",
       "\n",
       "   Маркет_актив_6_мес  Маркет_актив_тек_мес  Длительность  Акционные_покупки  \\\n",
       "0                 3.4                     5           121               0.00   \n",
       "1                 4.4                     4           819               0.75   \n",
       "2                 4.9                     3           539               0.14   \n",
       "3                 3.2                     5           896               0.99   \n",
       "4                 5.1                     3          1064               0.94   \n",
       "\n",
       "  Популярная_категория  Средний_просмотр_категорий_за_визит  \\\n",
       "0     Товары для детей                                    6   \n",
       "1     Товары для детей                                    4   \n",
       "2    Домашний текстиль                                    5   \n",
       "3     Товары для детей                                    5   \n",
       "4     Товары для детей                                    3   \n",
       "\n",
       "   Неоплаченные_продукты_штук_квартал  Ошибка_сервиса  Страниц_за_визит  \n",
       "0                                   2               1                 5  \n",
       "1                                   4               2                 5  \n",
       "2                                   2               1                 5  \n",
       "3                                   0               6                 4  \n",
       "4                                   2               3                 2  "
      ]
     },
     "metadata": {},
     "output_type": "display_data"
    },
    {
     "name": "stdout",
     "output_type": "stream",
     "text": [
      "\n",
      "Процент пропусков\n"
     ]
    },
    {
     "data": {
      "text/plain": [
       "id                                     0.0\n",
       "Покупательская активность              0.0\n",
       "Тип сервиса                            0.0\n",
       "Разрешить сообщать                     0.0\n",
       "Маркет_актив_6_мес                     0.0\n",
       "Маркет_актив_тек_мес                   0.0\n",
       "Длительность                           0.0\n",
       "Акционные_покупки                      0.0\n",
       "Популярная_категория                   0.0\n",
       "Средний_просмотр_категорий_за_визит    0.0\n",
       "Неоплаченные_продукты_штук_квартал     0.0\n",
       "Ошибка_сервиса                         0.0\n",
       "Страниц_за_визит                       0.0\n",
       "dtype: float64"
      ]
     },
     "metadata": {},
     "output_type": "display_data"
    },
    {
     "name": "stdout",
     "output_type": "stream",
     "text": [
      "<class 'pandas.core.frame.DataFrame'>\n",
      "RangeIndex: 1300 entries, 0 to 1299\n",
      "Data columns (total 13 columns):\n",
      " #   Column                               Non-Null Count  Dtype  \n",
      "---  ------                               --------------  -----  \n",
      " 0   id                                   1300 non-null   int64  \n",
      " 1   Покупательская активность            1300 non-null   object \n",
      " 2   Тип сервиса                          1300 non-null   object \n",
      " 3   Разрешить сообщать                   1300 non-null   object \n",
      " 4   Маркет_актив_6_мес                   1300 non-null   float64\n",
      " 5   Маркет_актив_тек_мес                 1300 non-null   int64  \n",
      " 6   Длительность                         1300 non-null   int64  \n",
      " 7   Акционные_покупки                    1300 non-null   float64\n",
      " 8   Популярная_категория                 1300 non-null   object \n",
      " 9   Средний_просмотр_категорий_за_визит  1300 non-null   int64  \n",
      " 10  Неоплаченные_продукты_штук_квартал   1300 non-null   int64  \n",
      " 11  Ошибка_сервиса                       1300 non-null   int64  \n",
      " 12  Страниц_за_визит                     1300 non-null   int64  \n",
      "dtypes: float64(2), int64(7), object(4)\n",
      "memory usage: 132.2+ KB\n"
     ]
    }
   ],
   "source": [
    "try:\n",
    "    market = parse_dataset('./datasets/market_file.csv')\n",
    "except:\n",
    "    market = parse_dataset('datasets/market_file.csv')"
   ]
  },
  {
   "cell_type": "code",
   "execution_count": null,
   "metadata": {},
   "outputs": [
    {
     "name": "stdout",
     "output_type": "stream",
     "text": [
      "Покупательская активность: ['Снизилась' 'Прежний уровень']\n",
      "\n",
      "Тип сервиса: ['премиум' 'стандартт' 'стандарт']\n",
      "\n",
      "Разрешить сообщать: ['да' 'нет']\n",
      "\n",
      "Популярная_категория: ['Товары для детей' 'Домашний текстиль' 'Косметика и аксесуары'\n",
      " 'Техника для красоты и здоровья' 'Кухонная посуда'\n",
      " 'Мелкая бытовая техника и электроника']\n",
      "\n"
     ]
    }
   ],
   "source": [
    "unique_category(market)"
   ]
  },
  {
   "cell_type": "markdown",
   "metadata": {},
   "source": [
    "1. Пропусков в таблице **`market`** не обнаружено\n",
    "2. Явные неправильные типы данных отсутствуют\n",
    "3. Бинарные категориальные признаки:\n",
    "    - `Покупательская активность` (целевой)\n",
    "    - `Тип сервиса`\n",
    "    - `Разрешить сообщать`\n",
    "4. Опечатки в категориальных признаках:\n",
    "    - значение 'стандартт' в `Тип сервиса` следует заменить на 'стандарт'\n",
    "5. Все столбцы стоит привести к стандартам оформления"
   ]
  },
  {
   "cell_type": "markdown",
   "metadata": {},
   "source": [
    "#### [Датасет market_money](#market_money)"
   ]
  },
  {
   "cell_type": "code",
   "execution_count": 40,
   "metadata": {},
   "outputs": [
    {
     "data": {
      "text/html": [
       "<div>\n",
       "<style scoped>\n",
       "    .dataframe tbody tr th:only-of-type {\n",
       "        vertical-align: middle;\n",
       "    }\n",
       "\n",
       "    .dataframe tbody tr th {\n",
       "        vertical-align: top;\n",
       "    }\n",
       "\n",
       "    .dataframe thead th {\n",
       "        text-align: right;\n",
       "    }\n",
       "</style>\n",
       "<table border=\"1\" class=\"dataframe\">\n",
       "  <thead>\n",
       "    <tr style=\"text-align: right;\">\n",
       "      <th></th>\n",
       "      <th>id</th>\n",
       "      <th>Период</th>\n",
       "      <th>Выручка</th>\n",
       "    </tr>\n",
       "  </thead>\n",
       "  <tbody>\n",
       "    <tr>\n",
       "      <th>0</th>\n",
       "      <td>215348</td>\n",
       "      <td>препредыдущий_месяц</td>\n",
       "      <td>0.0</td>\n",
       "    </tr>\n",
       "    <tr>\n",
       "      <th>1</th>\n",
       "      <td>215348</td>\n",
       "      <td>текущий_месяц</td>\n",
       "      <td>3293.1</td>\n",
       "    </tr>\n",
       "    <tr>\n",
       "      <th>2</th>\n",
       "      <td>215348</td>\n",
       "      <td>предыдущий_месяц</td>\n",
       "      <td>0.0</td>\n",
       "    </tr>\n",
       "    <tr>\n",
       "      <th>3</th>\n",
       "      <td>215349</td>\n",
       "      <td>препредыдущий_месяц</td>\n",
       "      <td>4472.0</td>\n",
       "    </tr>\n",
       "    <tr>\n",
       "      <th>4</th>\n",
       "      <td>215349</td>\n",
       "      <td>текущий_месяц</td>\n",
       "      <td>4971.6</td>\n",
       "    </tr>\n",
       "  </tbody>\n",
       "</table>\n",
       "</div>"
      ],
      "text/plain": [
       "       id               Период  Выручка\n",
       "0  215348  препредыдущий_месяц      0.0\n",
       "1  215348        текущий_месяц   3293.1\n",
       "2  215348     предыдущий_месяц      0.0\n",
       "3  215349  препредыдущий_месяц   4472.0\n",
       "4  215349        текущий_месяц   4971.6"
      ]
     },
     "metadata": {},
     "output_type": "display_data"
    },
    {
     "name": "stdout",
     "output_type": "stream",
     "text": [
      "\n",
      "Процент пропусков\n"
     ]
    },
    {
     "data": {
      "text/plain": [
       "id         0.0\n",
       "Период     0.0\n",
       "Выручка    0.0\n",
       "dtype: float64"
      ]
     },
     "metadata": {},
     "output_type": "display_data"
    },
    {
     "name": "stdout",
     "output_type": "stream",
     "text": [
      "<class 'pandas.core.frame.DataFrame'>\n",
      "RangeIndex: 3900 entries, 0 to 3899\n",
      "Data columns (total 3 columns):\n",
      " #   Column   Non-Null Count  Dtype  \n",
      "---  ------   --------------  -----  \n",
      " 0   id       3900 non-null   int64  \n",
      " 1   Период   3900 non-null   object \n",
      " 2   Выручка  3900 non-null   float64\n",
      "dtypes: float64(1), int64(1), object(1)\n",
      "memory usage: 91.5+ KB\n"
     ]
    }
   ],
   "source": [
    "try:\n",
    "    market_money = parse_dataset('./datasets/market_money.csv')\n",
    "except:\n",
    "    market_money = parse_dataset('datasets/market_money.csv')"
   ]
  },
  {
   "cell_type": "code",
   "execution_count": 41,
   "metadata": {},
   "outputs": [
    {
     "name": "stdout",
     "output_type": "stream",
     "text": [
      "Период: ['препредыдущий_месяц' 'текущий_месяц' 'предыдущий_месяц']\n",
      "\n"
     ]
    }
   ],
   "source": [
    "unique_category(market_money)"
   ]
  },
  {
   "cell_type": "markdown",
   "metadata": {},
   "source": [
    "1. Пропусков в таблице **`market_money`** не обнаружено\n",
    "2. Явные неправильные типы данных отсутствуют\n",
    "3. Все столбцы стоит привести к стандартам оформления"
   ]
  },
  {
   "cell_type": "markdown",
   "metadata": {},
   "source": [
    "#### [Датасет market_time](#market_time)"
   ]
  },
  {
   "cell_type": "code",
   "execution_count": 42,
   "metadata": {},
   "outputs": [
    {
     "data": {
      "text/html": [
       "<div>\n",
       "<style scoped>\n",
       "    .dataframe tbody tr th:only-of-type {\n",
       "        vertical-align: middle;\n",
       "    }\n",
       "\n",
       "    .dataframe tbody tr th {\n",
       "        vertical-align: top;\n",
       "    }\n",
       "\n",
       "    .dataframe thead th {\n",
       "        text-align: right;\n",
       "    }\n",
       "</style>\n",
       "<table border=\"1\" class=\"dataframe\">\n",
       "  <thead>\n",
       "    <tr style=\"text-align: right;\">\n",
       "      <th></th>\n",
       "      <th>id</th>\n",
       "      <th>Период</th>\n",
       "      <th>минут</th>\n",
       "    </tr>\n",
       "  </thead>\n",
       "  <tbody>\n",
       "    <tr>\n",
       "      <th>0</th>\n",
       "      <td>215348</td>\n",
       "      <td>текущий_месяц</td>\n",
       "      <td>14</td>\n",
       "    </tr>\n",
       "    <tr>\n",
       "      <th>1</th>\n",
       "      <td>215348</td>\n",
       "      <td>предыдцщий_месяц</td>\n",
       "      <td>13</td>\n",
       "    </tr>\n",
       "    <tr>\n",
       "      <th>2</th>\n",
       "      <td>215349</td>\n",
       "      <td>текущий_месяц</td>\n",
       "      <td>10</td>\n",
       "    </tr>\n",
       "    <tr>\n",
       "      <th>3</th>\n",
       "      <td>215349</td>\n",
       "      <td>предыдцщий_месяц</td>\n",
       "      <td>12</td>\n",
       "    </tr>\n",
       "    <tr>\n",
       "      <th>4</th>\n",
       "      <td>215350</td>\n",
       "      <td>текущий_месяц</td>\n",
       "      <td>13</td>\n",
       "    </tr>\n",
       "  </tbody>\n",
       "</table>\n",
       "</div>"
      ],
      "text/plain": [
       "       id            Период  минут\n",
       "0  215348     текущий_месяц     14\n",
       "1  215348  предыдцщий_месяц     13\n",
       "2  215349     текущий_месяц     10\n",
       "3  215349  предыдцщий_месяц     12\n",
       "4  215350     текущий_месяц     13"
      ]
     },
     "metadata": {},
     "output_type": "display_data"
    },
    {
     "name": "stdout",
     "output_type": "stream",
     "text": [
      "\n",
      "Процент пропусков\n"
     ]
    },
    {
     "data": {
      "text/plain": [
       "id        0.0\n",
       "Период    0.0\n",
       "минут     0.0\n",
       "dtype: float64"
      ]
     },
     "metadata": {},
     "output_type": "display_data"
    },
    {
     "name": "stdout",
     "output_type": "stream",
     "text": [
      "<class 'pandas.core.frame.DataFrame'>\n",
      "RangeIndex: 2600 entries, 0 to 2599\n",
      "Data columns (total 3 columns):\n",
      " #   Column  Non-Null Count  Dtype \n",
      "---  ------  --------------  ----- \n",
      " 0   id      2600 non-null   int64 \n",
      " 1   Период  2600 non-null   object\n",
      " 2   минут   2600 non-null   int64 \n",
      "dtypes: int64(2), object(1)\n",
      "memory usage: 61.1+ KB\n"
     ]
    }
   ],
   "source": [
    "try:\n",
    "    market_time = parse_dataset('./datasets/market_time.csv')\n",
    "except:\n",
    "    market_time = parse_dataset('datasets/market_time.csv')"
   ]
  },
  {
   "cell_type": "code",
   "execution_count": 43,
   "metadata": {},
   "outputs": [
    {
     "name": "stdout",
     "output_type": "stream",
     "text": [
      "Период: ['текущий_месяц' 'предыдцщий_месяц']\n",
      "\n"
     ]
    }
   ],
   "source": [
    "unique_category(market_time)"
   ]
  },
  {
   "cell_type": "markdown",
   "metadata": {},
   "source": [
    "1. Пропусков в таблице **`market_time`** не обнаружено\n",
    "2. Явные неправильные типы данных отсутствуют\n",
    "3. Бинарные категориальные признаки:\n",
    "    - `Период` \n",
    "4. Опечатки в категориальных признаках:\n",
    "    - значение 'предыдцщий_месяц' в `Период` следует заменить на 'предыдущий_месяц'\n",
    "5. Все столбцы стоит привести к стандартам оформления"
   ]
  },
  {
   "cell_type": "markdown",
   "metadata": {},
   "source": [
    "#### [Датасет money](#money)"
   ]
  },
  {
   "cell_type": "code",
   "execution_count": 45,
   "metadata": {},
   "outputs": [
    {
     "data": {
      "text/html": [
       "<div>\n",
       "<style scoped>\n",
       "    .dataframe tbody tr th:only-of-type {\n",
       "        vertical-align: middle;\n",
       "    }\n",
       "\n",
       "    .dataframe tbody tr th {\n",
       "        vertical-align: top;\n",
       "    }\n",
       "\n",
       "    .dataframe thead th {\n",
       "        text-align: right;\n",
       "    }\n",
       "</style>\n",
       "<table border=\"1\" class=\"dataframe\">\n",
       "  <thead>\n",
       "    <tr style=\"text-align: right;\">\n",
       "      <th></th>\n",
       "      <th>id</th>\n",
       "      <th>Прибыль</th>\n",
       "    </tr>\n",
       "  </thead>\n",
       "  <tbody>\n",
       "    <tr>\n",
       "      <th>0</th>\n",
       "      <td>215348</td>\n",
       "      <td>0,98</td>\n",
       "    </tr>\n",
       "    <tr>\n",
       "      <th>1</th>\n",
       "      <td>215349</td>\n",
       "      <td>4,16</td>\n",
       "    </tr>\n",
       "    <tr>\n",
       "      <th>2</th>\n",
       "      <td>215350</td>\n",
       "      <td>3,13</td>\n",
       "    </tr>\n",
       "    <tr>\n",
       "      <th>3</th>\n",
       "      <td>215351</td>\n",
       "      <td>4,87</td>\n",
       "    </tr>\n",
       "    <tr>\n",
       "      <th>4</th>\n",
       "      <td>215352</td>\n",
       "      <td>4,21</td>\n",
       "    </tr>\n",
       "  </tbody>\n",
       "</table>\n",
       "</div>"
      ],
      "text/plain": [
       "       id Прибыль\n",
       "0  215348    0,98\n",
       "1  215349    4,16\n",
       "2  215350    3,13\n",
       "3  215351    4,87\n",
       "4  215352    4,21"
      ]
     },
     "metadata": {},
     "output_type": "display_data"
    },
    {
     "name": "stdout",
     "output_type": "stream",
     "text": [
      "\n",
      "Процент пропусков\n"
     ]
    },
    {
     "data": {
      "text/plain": [
       "id         0.0\n",
       "Прибыль    0.0\n",
       "dtype: float64"
      ]
     },
     "metadata": {},
     "output_type": "display_data"
    },
    {
     "name": "stdout",
     "output_type": "stream",
     "text": [
      "<class 'pandas.core.frame.DataFrame'>\n",
      "RangeIndex: 1300 entries, 0 to 1299\n",
      "Data columns (total 2 columns):\n",
      " #   Column   Non-Null Count  Dtype \n",
      "---  ------   --------------  ----- \n",
      " 0   id       1300 non-null   int64 \n",
      " 1   Прибыль  1300 non-null   object\n",
      "dtypes: int64(1), object(1)\n",
      "memory usage: 20.4+ KB\n"
     ]
    }
   ],
   "source": [
    "try:\n",
    "    money = parse_dataset('./datasets/money.csv', sep=';')\n",
    "except:\n",
    "    money = parse_dataset('datasets/money.csv', sep=';')"
   ]
  },
  {
   "cell_type": "markdown",
   "metadata": {},
   "source": [
    "1. Пропусков в таблице **`money`** не обнаружено\n",
    "2. Явные неправильные типы данных отсутствуют\n",
    "3. Все столбцы стоит привести к стандартам оформления"
   ]
  },
  {
   "cell_type": "markdown",
   "metadata": {},
   "source": [
    "#### Вывод по изучению общей информации\n",
    "\n",
    "В таблицах отсутствуют пропуски, как и явные неправильные типы данных. Бинарные признаки стоит перевести в float с значениями 1.0 и 0.0. \\\n",
    "Все столбцы необходимо привести в нижний змеиный регистр. \n",
    "\n",
    "- Опечатки в категориальных признаках:\n",
    "    1. `market`: значение 'стандартт' в `Тип сервиса` следует заменить на 'стандарт'\n",
    "    2. `market_time`: значение 'предыдцщий_месяц' в `Период` следует заменить на 'предыдущий_месяц'\n",
    "\n",
    "\n",
    "<font size=\"2\">[вернуться к плану выполнения](#plan_global)</font>"
   ]
  },
  {
   "cell_type": "markdown",
   "metadata": {},
   "source": [
    "### [Предобработка данных](#task_2_plan) <a id='task_2'></a>"
   ]
  },
  {
   "cell_type": "markdown",
   "metadata": {},
   "source": [
    "#### [Замена названий столбцов](#task_2_plan_1) <a id='task_2_1'></a>"
   ]
  },
  {
   "cell_type": "code",
   "execution_count": 46,
   "metadata": {},
   "outputs": [],
   "source": [
    "def get_columns(clm):\n",
    "    return clm.lower().replace(\" \", \"_\")"
   ]
  },
  {
   "cell_type": "code",
   "execution_count": 52,
   "metadata": {},
   "outputs": [
    {
     "name": "stdout",
     "output_type": "stream",
     "text": [
      "<class 'pandas.core.frame.DataFrame'>\n",
      "RangeIndex: 1300 entries, 0 to 1299\n",
      "Data columns (total 13 columns):\n",
      " #   Column                               Non-Null Count  Dtype  \n",
      "---  ------                               --------------  -----  \n",
      " 0   id                                   1300 non-null   int64  \n",
      " 1   покупательская_активность            1300 non-null   object \n",
      " 2   тип_сервиса                          1300 non-null   object \n",
      " 3   разрешить_сообщать                   1300 non-null   object \n",
      " 4   маркет_актив_6_мес                   1300 non-null   float64\n",
      " 5   маркет_актив_тек_мес                 1300 non-null   int64  \n",
      " 6   длительность                         1300 non-null   int64  \n",
      " 7   акционные_покупки                    1300 non-null   float64\n",
      " 8   популярная_категория                 1300 non-null   object \n",
      " 9   средний_просмотр_категорий_за_визит  1300 non-null   int64  \n",
      " 10  неоплаченные_продукты_штук_квартал   1300 non-null   int64  \n",
      " 11  ошибка_сервиса                       1300 non-null   int64  \n",
      " 12  страниц_за_визит                     1300 non-null   int64  \n",
      "dtypes: float64(2), int64(7), object(4)\n",
      "memory usage: 132.2+ KB\n"
     ]
    }
   ],
   "source": [
    "market.rename(columns=get_columns, inplace=True)\n",
    "market.info()"
   ]
  },
  {
   "cell_type": "code",
   "execution_count": 69,
   "metadata": {},
   "outputs": [
    {
     "name": "stdout",
     "output_type": "stream",
     "text": [
      "<class 'pandas.core.frame.DataFrame'>\n",
      "RangeIndex: 3900 entries, 0 to 3899\n",
      "Data columns (total 3 columns):\n",
      " #   Column   Non-Null Count  Dtype  \n",
      "---  ------   --------------  -----  \n",
      " 0   id       3900 non-null   int64  \n",
      " 1   период   3900 non-null   object \n",
      " 2   выручка  3900 non-null   float64\n",
      "dtypes: float64(1), int64(1), object(1)\n",
      "memory usage: 91.5+ KB\n"
     ]
    }
   ],
   "source": [
    "market_money.rename(columns=get_columns, inplace=True)\n",
    "market_money.info()"
   ]
  },
  {
   "cell_type": "code",
   "execution_count": 71,
   "metadata": {},
   "outputs": [
    {
     "name": "stdout",
     "output_type": "stream",
     "text": [
      "<class 'pandas.core.frame.DataFrame'>\n",
      "RangeIndex: 2600 entries, 0 to 2599\n",
      "Data columns (total 3 columns):\n",
      " #   Column  Non-Null Count  Dtype \n",
      "---  ------  --------------  ----- \n",
      " 0   id      2600 non-null   int64 \n",
      " 1   период  2600 non-null   object\n",
      " 2   минут   2600 non-null   int64 \n",
      "dtypes: int64(2), object(1)\n",
      "memory usage: 61.1+ KB\n"
     ]
    }
   ],
   "source": [
    "market_time.rename(columns=get_columns, inplace=True)\n",
    "market_time.info()"
   ]
  },
  {
   "cell_type": "code",
   "execution_count": 73,
   "metadata": {},
   "outputs": [
    {
     "name": "stdout",
     "output_type": "stream",
     "text": [
      "<class 'pandas.core.frame.DataFrame'>\n",
      "RangeIndex: 1300 entries, 0 to 1299\n",
      "Data columns (total 2 columns):\n",
      " #   Column   Non-Null Count  Dtype \n",
      "---  ------   --------------  ----- \n",
      " 0   id       1300 non-null   int64 \n",
      " 1   прибыль  1300 non-null   object\n",
      "dtypes: int64(1), object(1)\n",
      "memory usage: 20.4+ KB\n"
     ]
    }
   ],
   "source": [
    "money.rename(columns=get_columns, inplace=True)\n",
    "money.info()"
   ]
  },
  {
   "cell_type": "markdown",
   "metadata": {},
   "source": [
    "Названия столбцов были приведены к нижнему змеиному регистру, согласно стандартам оформления."
   ]
  },
  {
   "cell_type": "markdown",
   "metadata": {},
   "source": [
    "#### [Изменение ошибочных значений](#task_2_plan_2) <a id='task_2_2'></a>"
   ]
  },
  {
   "cell_type": "code",
   "execution_count": 101,
   "metadata": {},
   "outputs": [
    {
     "data": {
      "text/plain": [
       "array(['премиум', 'стандарт'], dtype=object)"
      ]
     },
     "execution_count": 101,
     "metadata": {},
     "output_type": "execute_result"
    }
   ],
   "source": [
    "market['тип_сервиса'].where(market['тип_сервиса'] != 'стандартт', 'стандарт', inplace=True)\n",
    "market['тип_сервиса'].unique()"
   ]
  },
  {
   "cell_type": "markdown",
   "metadata": {},
   "source": [
    "Опечатка в датасете **`market`** в столбце `тип_сервиса` была исправлена с 'стандартт' на 'стандарт'."
   ]
  },
  {
   "cell_type": "code",
   "execution_count": 108,
   "metadata": {},
   "outputs": [
    {
     "data": {
      "text/plain": [
       "array(['текущий_месяц', 'предыдущий_месяц'], dtype=object)"
      ]
     },
     "execution_count": 108,
     "metadata": {},
     "output_type": "execute_result"
    }
   ],
   "source": [
    "market_time['период'].where(market_time['период'] != 'предыдцщий_месяц', 'предыдущий_месяц', inplace=True)\n",
    "market_time['период'].unique()"
   ]
  },
  {
   "cell_type": "markdown",
   "metadata": {},
   "source": [
    "Опечатка в датасете **`market_time`** в столбце `период` была исправлена с 'предыдцщий_месяц' на 'предыдущий_месяц'."
   ]
  },
  {
   "cell_type": "markdown",
   "metadata": {},
   "source": [
    "#### [Удаление возможных дубликатов](#task_2_plan_3) <a id='task_2_3'></a>"
   ]
  },
  {
   "cell_type": "code",
   "execution_count": 114,
   "metadata": {},
   "outputs": [
    {
     "data": {
      "text/plain": [
       "0"
      ]
     },
     "execution_count": 114,
     "metadata": {},
     "output_type": "execute_result"
    }
   ],
   "source": [
    "market.duplicated(subset='id').sum()"
   ]
  },
  {
   "cell_type": "markdown",
   "metadata": {},
   "source": [
    "В таблице **`market`**, с данными о поведении покупателя на сайте, о коммуникациях с покупателем и его продуктовом поведении, дубликаты отсутствуют."
   ]
  },
  {
   "cell_type": "code",
   "execution_count": 115,
   "metadata": {},
   "outputs": [
    {
     "data": {
      "text/plain": [
       "0"
      ]
     },
     "execution_count": 115,
     "metadata": {},
     "output_type": "execute_result"
    }
   ],
   "source": [
    "market_money.duplicated().sum()"
   ]
  },
  {
   "cell_type": "markdown",
   "metadata": {},
   "source": [
    "В таблице **`market_money`** каждый `id` встречается 3 раза, согласну столбцу `период` ('препредыдущий_месяц', 'текущий_месяц', 'предыдущий_месяц') \\\n",
    "Явные дубликаты отсутствуют"
   ]
  },
  {
   "cell_type": "code",
   "execution_count": 116,
   "metadata": {},
   "outputs": [
    {
     "data": {
      "text/plain": [
       "0"
      ]
     },
     "execution_count": 116,
     "metadata": {},
     "output_type": "execute_result"
    }
   ],
   "source": [
    "market_time.duplicated().sum()"
   ]
  },
  {
   "cell_type": "markdown",
   "metadata": {},
   "source": [
    "В таблице **`market_time`** каждый `id` встречается 2 раза, согласну столбцу `период` ('текущий_месяц', 'предыдущий_месяц') \\\n",
    "Явные дубликаты отсутствуют"
   ]
  },
  {
   "cell_type": "code",
   "execution_count": 117,
   "metadata": {},
   "outputs": [
    {
     "data": {
      "text/plain": [
       "0"
      ]
     },
     "execution_count": 117,
     "metadata": {},
     "output_type": "execute_result"
    }
   ],
   "source": [
    "money.duplicated().sum()"
   ]
  },
  {
   "cell_type": "markdown",
   "metadata": {},
   "source": [
    "В таблице **`money`** дубликаты отсутствуют"
   ]
  },
  {
   "cell_type": "markdown",
   "metadata": {},
   "source": [
    "#### Вывод предобработки данных\n",
    "\n",
    "1. Названия столбцов были приведены к нижнему змеиному регистру, согласно стандартам оформления\n",
    "2. Опечатки в датасетах `market`, `market_time` были исправлены\n",
    "3. Дубликаты в таблицах отсутствуют\n",
    "\n",
    "<font size=\"2\">[вернуться к плану выполнения](#plan_global)</font>"
   ]
  },
  {
   "cell_type": "markdown",
   "metadata": {},
   "source": [
    "### [Исследовательский анализ данных](#task_3_plan) <a id='task_3_1'></a>"
   ]
  },
  {
   "cell_type": "code",
   "execution_count": null,
   "metadata": {},
   "outputs": [],
   "source": []
  }
 ],
 "metadata": {
  "kernelspec": {
   "display_name": "practicum",
   "language": "python",
   "name": "python3"
  },
  "language_info": {
   "codemirror_mode": {
    "name": "ipython",
    "version": 3
   },
   "file_extension": ".py",
   "mimetype": "text/x-python",
   "name": "python",
   "nbconvert_exporter": "python",
   "pygments_lexer": "ipython3",
   "version": "3.9.21"
  }
 },
 "nbformat": 4,
 "nbformat_minor": 2
}
